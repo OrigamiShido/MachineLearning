{
 "cells": [
  {
   "metadata": {},
   "cell_type": "markdown",
   "source": [
    "# 为互联网电影评论数据，包含50000个关于电影的正面/负面评论，请采用逻辑回归模型或SVM或其他机器学习模型来拟合数据，并通过交叉验证法评估模型效果。\n",
    "提示：可以参考网友做法，详见https://www.jianshu.com/p/c9165bfa7619?utm_campaign=maleskine&utm_content=note&utm_medium=seo_notes&utm_source=recommendation\n",
    "大致思路：读取数据、清洗文本、提取词汇、移除停用词、词带模型、数据集划分、逻辑回归模型拟合与评估。\n",
    "需要使用python自然语言工具包nltk等。\n"
   ],
   "id": "2a6d8bda6beda190"
  },
  {
   "metadata": {},
   "cell_type": "markdown",
   "source": "import",
   "id": "1aef7bc20cce68c"
  },
  {
   "metadata": {
    "collapsed": true
   },
   "cell_type": "code",
   "source": [
    "# import numpy as np\n",
    "# import pandas as pd\n",
    "# import matplotlib.pyplot as plt \n",
    "# import nltk\n",
    "# import os\n",
    "# import pyprind\n",
    "# import re\n",
    "# from datashader.bundling import smooth\n",
    "# from sklearn.feature_extraction.text import CountVectorizer, TfidfTransformer\n",
    "# from sklearn.svm import SVC\n",
    "# from sklearn.decomposition import LatentDirichletAllocation\n",
    "# import pyLDAvis\n",
    "# basepath = 'aclImdb'\n",
    "# labels = {'pos': 1, 'neg': 0}\n",
    "# pbar = pyprind.ProgBar(50000)\n",
    "# df = pd.DataFrame()\n",
    "# for s in ('test', 'train'):\n",
    "#     for l in ('pos', 'neg'):\n",
    "#         path=os.path.join(basepath,s,l)\n",
    "#         for file in os.listdir(path):\n",
    "#             with open(os.path.join(path,file),'r',encoding='utf-8') as infile:\n",
    "#                 txt=infile.read()\n",
    "#                 df=df._append([[txt,labels[l]]],ignore_index=True)\n",
    "#                 pbar.update()\n",
    "# df.columns=['review','sentiment']\n",
    "# \n",
    "# np.random.seed(0)\n",
    "# df=df.reindex(np.random.permutation(df.index))\n",
    "# df.to_csv('movie_data.csv',encoding='utf-8')\n",
    "# df.head()"
   ],
   "id": "initial_id",
   "outputs": [],
   "execution_count": null
  },
  {
   "metadata": {},
   "cell_type": "markdown",
   "source": "",
   "id": "2bcd42700bb6be87"
  },
  {
   "metadata": {
    "ExecuteTime": {
     "end_time": "2024-10-30T14:04:03.192351Z",
     "start_time": "2024-10-30T13:55:43.055663Z"
    }
   },
   "cell_type": "code",
   "source": [
    "from sklearn.pipeline import Pipeline\n",
    "from sklearn.naive_bayes import MultinomialNB\n",
    "import numpy as np\n",
    "from sklearn.feature_extraction.text import CountVectorizer \n",
    "from sklearn.svm import SVC\n",
    "import pandas as pd\n",
    "import re\n",
    "from nltk.corpus import stopwords\n",
    "from nltk import PorterStemmer\n",
    "from sklearn.model_selection import GridSearchCV\n",
    "from sklearn.linear_model import LogisticRegression\n",
    "from sklearn.feature_extraction.text import TfidfVectorizer\n",
    "import nltk\n",
    "\n",
    "df=pd.read_csv('movie_data.csv',encoding='utf-8')\n",
    "\n",
    "# nltk.download('stopwords')#停用词移除(stop-word removal)，停用词是文本中常见单不能有效判别信息的词汇  \n",
    "stop = stopwords.words('english')#获得英文停用词集  \n",
    "\n",
    "def preprocessor(text):\n",
    "\n",
    "    text=re.sub(r'<[^>]*>','',text)\n",
    "    emotions=re.findall(r'(?::|;|=)(?:-)?(?:\\)|\\(|D|P)',text)\n",
    "    text=re.sub(r'[\\W]+',' ',text.lower())+''.join(emotions).replace('-','')\n",
    "    # text=''.join(porter.stem(word) for word in text.split() if word not in stop)\n",
    "    return text\n",
    "\n",
    "df['review']=df['review'].apply(preprocessor)\n",
    "\n",
    "porter=PorterStemmer()\n",
    "\n",
    "def tokenizer(text):#提取词汇  \n",
    "    return text.split()  \n",
    "\n",
    "def tokenizer_porter(text):#文本分词并提取词干  \n",
    "    return [porter.stem(word) for word in text.split()]  \n",
    "\n",
    "# vector=CountVectorizer(binary=True)\n",
    "# vector=CountVectorizer()\n",
    "#加tfidf\n",
    "\n",
    "#50000个数据，对半分\n",
    "X_train=df.loc[:25000,'review'].values  \n",
    "\n",
    "y_train=df.loc[:25000,'sentiment'].values  \n",
    "\n",
    "X_test=df.loc[25000:,'review'].values  \n",
    "\n",
    "y_test=df.loc[25000:,'sentiment'].values       \n",
    "\n",
    "# X_train=vector.fit_transform(X_train)\n",
    "# X_test=vector.transform(X_test)\n",
    "tfidf=TfidfVectorizer(strip_accents=None,lowercase=False,preprocessor=None)  \n",
    "\n",
    "param_grid = [{'vect__ngram_range':[(1,1)],'vect__stop_words':[stop,None],'vect__tokenizer':[tokenizer,tokenizer_porter],'clf__penalty':['l1','l2'],'clf__C':[1.0]},{'vect__ngram_range':[(1,1)],'vect__stop_words':[stop,None],'vect__tokenizer':[tokenizer,tokenizer_porter],'vect__use_idf':[False],'vect__norm':[None],'clf__penalty':['l1','l2'],'clf__C':[1.0,100.0]} ]  \n",
    "\n",
    "lr_tfidf =Pipeline([('vect',tfidf),('clf',LogisticRegression(random_state=0))])  \n",
    "\n",
    "gs_lr_tfidf=GridSearchCV(lr_tfidf,param_grid,scoring='accuracy',cv=2,verbose=3,n_jobs=-1)  \n",
    "\n",
    "gs_lr_tfidf.fit(X_train,y_train)  \n",
    "\n",
    "print ('Best parameter set :%s' % gs_lr_tfidf.best_params_)  \n",
    "\n",
    "print ('CV Accuracy:%.3f'%gs_lr_tfidf.best_score_)  \n",
    "\n",
    "clf=gs_lr_tfidf.best_estimator_  \n",
    "\n",
    "print ('Test Accuracy:%.3f'%clf.score(X_test,y_test)) \n"
   ],
   "id": "4472d7b1ab01117c",
   "outputs": [
    {
     "name": "stdout",
     "output_type": "stream",
     "text": [
      "Fitting 2 folds for each of 24 candidates, totalling 48 fits\n"
     ]
    },
    {
     "name": "stderr",
     "output_type": "stream",
     "text": [
      "C:\\ProgramData\\anaconda3\\Lib\\site-packages\\sklearn\\model_selection\\_validation.py:547: FitFailedWarning: \n",
      "24 fits failed out of a total of 48.\n",
      "The score on these train-test partitions for these parameters will be set to nan.\n",
      "If these failures are not expected, you can try to debug them by setting error_score='raise'.\n",
      "\n",
      "Below are more details about the failures:\n",
      "--------------------------------------------------------------------------------\n",
      "24 fits failed with the following error:\n",
      "Traceback (most recent call last):\n",
      "  File \"C:\\ProgramData\\anaconda3\\Lib\\site-packages\\sklearn\\model_selection\\_validation.py\", line 895, in _fit_and_score\n",
      "    estimator.fit(X_train, y_train, **fit_params)\n",
      "  File \"C:\\ProgramData\\anaconda3\\Lib\\site-packages\\sklearn\\base.py\", line 1474, in wrapper\n",
      "    return fit_method(estimator, *args, **kwargs)\n",
      "           ^^^^^^^^^^^^^^^^^^^^^^^^^^^^^^^^^^^^^^\n",
      "  File \"C:\\ProgramData\\anaconda3\\Lib\\site-packages\\sklearn\\pipeline.py\", line 475, in fit\n",
      "    self._final_estimator.fit(Xt, y, **last_step_params[\"fit\"])\n",
      "  File \"C:\\ProgramData\\anaconda3\\Lib\\site-packages\\sklearn\\base.py\", line 1474, in wrapper\n",
      "    return fit_method(estimator, *args, **kwargs)\n",
      "           ^^^^^^^^^^^^^^^^^^^^^^^^^^^^^^^^^^^^^^\n",
      "  File \"C:\\ProgramData\\anaconda3\\Lib\\site-packages\\sklearn\\linear_model\\_logistic.py\", line 1172, in fit\n",
      "    solver = _check_solver(self.solver, self.penalty, self.dual)\n",
      "             ^^^^^^^^^^^^^^^^^^^^^^^^^^^^^^^^^^^^^^^^^^^^^^^^^^^\n",
      "  File \"C:\\ProgramData\\anaconda3\\Lib\\site-packages\\sklearn\\linear_model\\_logistic.py\", line 67, in _check_solver\n",
      "    raise ValueError(\n",
      "ValueError: Solver lbfgs supports only 'l2' or None penalties, got l1 penalty.\n",
      "\n",
      "  warnings.warn(some_fits_failed_message, FitFailedWarning)\n",
      "C:\\ProgramData\\anaconda3\\Lib\\site-packages\\sklearn\\model_selection\\_search.py:1051: UserWarning: One or more of the test scores are non-finite: [       nan        nan        nan        nan 0.88268472 0.88076484\n",
      " 0.8805248  0.8802048         nan        nan        nan        nan\n",
      " 0.87316515 0.86664537 0.87588504 0.86836526        nan        nan\n",
      "        nan        nan 0.86748533 0.85616576 0.86768537 0.85824559]\n",
      "  warnings.warn(\n",
      "C:\\ProgramData\\anaconda3\\Lib\\site-packages\\sklearn\\feature_extraction\\text.py:525: UserWarning: The parameter 'token_pattern' will not be used since 'tokenizer' is not None'\n",
      "  warnings.warn(\n"
     ]
    },
    {
     "name": "stdout",
     "output_type": "stream",
     "text": [
      "Best parameter set :{'clf__C': 1.0, 'clf__penalty': 'l2', 'vect__ngram_range': (1, 1), 'vect__stop_words': ['i', 'me', 'my', 'myself', 'we', 'our', 'ours', 'ourselves', 'you', \"you're\", \"you've\", \"you'll\", \"you'd\", 'your', 'yours', 'yourself', 'yourselves', 'he', 'him', 'his', 'himself', 'she', \"she's\", 'her', 'hers', 'herself', 'it', \"it's\", 'its', 'itself', 'they', 'them', 'their', 'theirs', 'themselves', 'what', 'which', 'who', 'whom', 'this', 'that', \"that'll\", 'these', 'those', 'am', 'is', 'are', 'was', 'were', 'be', 'been', 'being', 'have', 'has', 'had', 'having', 'do', 'does', 'did', 'doing', 'a', 'an', 'the', 'and', 'but', 'if', 'or', 'because', 'as', 'until', 'while', 'of', 'at', 'by', 'for', 'with', 'about', 'against', 'between', 'into', 'through', 'during', 'before', 'after', 'above', 'below', 'to', 'from', 'up', 'down', 'in', 'out', 'on', 'off', 'over', 'under', 'again', 'further', 'then', 'once', 'here', 'there', 'when', 'where', 'why', 'how', 'all', 'any', 'both', 'each', 'few', 'more', 'most', 'other', 'some', 'such', 'no', 'nor', 'not', 'only', 'own', 'same', 'so', 'than', 'too', 'very', 's', 't', 'can', 'will', 'just', 'don', \"don't\", 'should', \"should've\", 'now', 'd', 'll', 'm', 'o', 're', 've', 'y', 'ain', 'aren', \"aren't\", 'couldn', \"couldn't\", 'didn', \"didn't\", 'doesn', \"doesn't\", 'hadn', \"hadn't\", 'hasn', \"hasn't\", 'haven', \"haven't\", 'isn', \"isn't\", 'ma', 'mightn', \"mightn't\", 'mustn', \"mustn't\", 'needn', \"needn't\", 'shan', \"shan't\", 'shouldn', \"shouldn't\", 'wasn', \"wasn't\", 'weren', \"weren't\", 'won', \"won't\", 'wouldn', \"wouldn't\"], 'vect__tokenizer': <function tokenizer at 0x0000022FBF2C9440>}\n",
      "CV Accuracy:0.883\n",
      "Test Accuracy:0.895\n"
     ]
    }
   ],
   "execution_count": 1
  },
  {
   "metadata": {},
   "cell_type": "markdown",
   "source": [
    "## Comments\n",
    "@InProceedings{maas-EtAl:2011:ACL-HLT2011,\n",
    "  author    = {Maas, Andrew L.  and  Daly, Raymond E.  and  Pham, Peter T.  and  Huang, Dan  and  Ng, Andrew Y.  and  Potts, Christopher},\n",
    "  title     = {Learning Word Vectors for Sentiment Analysis},\n",
    "  booktitle = {Proceedings of the 49th Annual Meeting of the Association for Computational Linguistics: Human Language Technologies},\n",
    "  month     = {June},\n",
    "  year      = {2011},\n",
    "  address   = {Portland, Oregon, USA},\n",
    "  publisher = {Association for Computational Linguistics},\n",
    "  pages     = {142--150},\n",
    "  url       = {http://www.aclweb.org/anthology/P11-1015}\n",
    "}"
   ],
   "id": "b66e0338737afbfb"
  }
 ],
 "metadata": {
  "kernelspec": {
   "display_name": "Python 3",
   "language": "python",
   "name": "python3"
  },
  "language_info": {
   "codemirror_mode": {
    "name": "ipython",
    "version": 2
   },
   "file_extension": ".py",
   "mimetype": "text/x-python",
   "name": "python",
   "nbconvert_exporter": "python",
   "pygments_lexer": "ipython2",
   "version": "2.7.6"
  }
 },
 "nbformat": 4,
 "nbformat_minor": 5
}
