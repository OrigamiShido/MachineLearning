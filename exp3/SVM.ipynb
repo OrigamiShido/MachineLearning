{
 "cells": [
  {
   "metadata": {},
   "cell_type": "markdown",
   "source": "# 4. 使用支持向量机完成sklearn自带的digits数据集进行手写数字的识别。尝试采用不同核函数、调整不同gamma，C参数值等，采用交叉验证法，分别计算训练集错误率和测试集错误率，并进行调参分析。注:可使用sklearn库的SVM实现. 提示：调参可采用网格搜索法GridSearch实现。",
   "id": "135491d20decb3e1"
  },
  {
   "metadata": {
    "ExecuteTime": {
     "end_time": "2024-10-28T16:21:24.694951Z",
     "start_time": "2024-10-28T16:21:00.551936Z"
    }
   },
   "cell_type": "code",
   "source": [
    "import numpy as np\n",
    "import pandas as pd \n",
    "import matplotlib.pyplot as plt\n",
    "from sklearn import datasets\n",
    "from sklearn.model_selection import train_test_split, GridSearchCV\n",
    "from sklearn.svm import SVC\n",
    "from sklearn.metrics import accuracy_score\n",
    "from sklearn.preprocessing import StandardScaler\n",
    "\n",
    "from exp3.bayesmail import spamTest\n",
    "\n",
    "# 加载数据\n",
    "digits = datasets.load_digits()\n",
    "X = digits.data\n",
    "y = digits.target\n",
    "\n",
    "# 数据标准化\n",
    "scaler = StandardScaler()\n",
    "X = scaler.fit_transform(X)\n",
    "\n",
    "# 划分数据集\n",
    "X_train, X_test, y_train, y_test = train_test_split(X, y, test_size=0.2, random_state=0)\n",
    "\n",
    "parameters={'kernel':['linear', 'poly', 'rbf', 'sigmoid'],'gamma':[0.1, 1, 10, 100],'C':[0.1, 1, 10, 100]}\n",
    "\n",
    "gs=GridSearchCV(SVC(),parameters,verbose=2,cv=5,refit=True,n_jobs=-1)\n",
    "gs.fit(X_train,y_train)\n",
    "\n",
    "print('最佳参数：',gs.best_params_)\n",
    "print('最佳性能：',gs.best_score_)\n",
    "print('测试集错误率：',1-gs.score(X_test,y_test))\n",
    "print('训练集错误率：',1-gs.score(X_train,y_train))\n"
   ],
   "id": "d32c98d8a57cccd2",
   "outputs": [
    {
     "name": "stdout",
     "output_type": "stream",
     "text": [
      "Fitting 5 folds for each of 64 candidates, totalling 320 fits\n",
      "最佳参数： {'C': 0.1, 'gamma': 1, 'kernel': 'poly'}\n",
      "最佳性能： 0.9902511614401858\n",
      "测试集错误率： 0.01388888888888884\n",
      "训练集错误率： 0.0\n"
     ]
    }
   ],
   "execution_count": 13
  },
  {
   "metadata": {},
   "cell_type": "markdown",
   "source": "# 在实验3中我们采用了朴素贝叶斯进行了垃圾邮件分类：使用email文件夹下spam文件夹(垃圾邮件)和ham文件夹（正常邮件）的共50个邮件，采用交叉验证的方式，随机选取10个文件作为测试数据，其他作为训练数据，采用朴素贝叶斯进行垃圾邮件的分类。计算多次迭代后的平均错误率。这里试采用SVM进行垃圾邮件分类，并对两种方法的性能（训练集错误率、测试集错误率、运行时间等）进行比较。注:可以使用sklearn库或python实现\n",
   "id": "e3d43a381ca2953c"
  },
  {
   "metadata": {
    "ExecuteTime": {
     "end_time": "2024-10-28T16:20:55.863493Z",
     "start_time": "2024-10-28T16:20:55.796699Z"
    }
   },
   "cell_type": "code",
   "source": [
    "import numpy as np\n",
    "import pandas as pd\n",
    "from sklearn.model_selection import train_test_split\n",
    "from sklearn.svm import SVC\n",
    "from sklearn.metrics import accuracy_score\n",
    "from sklearn.preprocessing import StandardScaler\n",
    "import time\n",
    "import bayesmail\n",
    "import random\n",
    "\n",
    "docList=[]\n",
    "classList=[]\n",
    "fullText=[]\n",
    "for i in range(1,26):\n",
    "    wordList=bayesmail.textParse(open('C:/Users/Admin/Desktop/WHU study/programming/python/MachineLearning/exp3/email/spam/%d.txt' % i).read())\n",
    "    docList.append(wordList)\n",
    "    fullText.extend(wordList)\n",
    "    classList.append(1)\n",
    "    wordList=bayesmail.textParse(open('C:/Users/Admin/Desktop/WHU study/programming/python/MachineLearning/exp3/email/ham/%d.txt' % i).read())\n",
    "    docList.append(wordList)\n",
    "    fullText.extend(wordList)\n",
    "    classList.append(0)\n",
    "vocabList=bayesmail.createVocabList(docList)\n",
    "trainingSet=range(50)\n",
    "testSet=[]\n",
    "for i in range(10):\n",
    "    randIndex=int(random.uniform(0,len(trainingSet)))\n",
    "    testSet.append(list(trainingSet)[randIndex])\n",
    "    del(list(trainingSet)[randIndex])\n",
    "trainMat=[]\n",
    "trainClasses=[]\n",
    "for docIndex in trainingSet:\n",
    "    trainMat.append(bayesmail.setOfWrods2Vec(vocabList,docList[docIndex]))\n",
    "    trainClasses.append(classList[docIndex])\n",
    "\n",
    "\n",
    "\n",
    "bayesmail.spamTest()"
   ],
   "id": "390e5fc31b34e615",
   "outputs": [
    {
     "name": "stdout",
     "output_type": "stream",
     "text": [
      "the error rate is:  0.3\n"
     ]
    }
   ],
   "execution_count": 12
  }
 ],
 "metadata": {
  "kernelspec": {
   "display_name": "Python 3",
   "language": "python",
   "name": "python3"
  },
  "language_info": {
   "codemirror_mode": {
    "name": "ipython",
    "version": 2
   },
   "file_extension": ".py",
   "mimetype": "text/x-python",
   "name": "python",
   "nbconvert_exporter": "python",
   "pygments_lexer": "ipython2",
   "version": "2.7.6"
  }
 },
 "nbformat": 4,
 "nbformat_minor": 5
}
