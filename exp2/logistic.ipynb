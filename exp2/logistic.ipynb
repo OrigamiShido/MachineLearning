{
 "cells": [
  {
   "metadata": {},
   "cell_type": "markdown",
   "source": [
    "使用horseColicTraining.txt 文件作为训练集（每行包含了病马的20\n",
    "个特征和是否死亡的标签），horseColicTest.txt 作为测试集，利用\n",
    "Logistic回归预测病马的死亡率。计算多次迭代后的平均错误率。"
   ],
   "id": "a37b8634dbb2fdb7"
  },
  {
   "metadata": {
    "ExecuteTime": {
     "end_time": "2024-10-16T03:23:20.241533Z",
     "start_time": "2024-10-16T03:23:19.048925Z"
    }
   },
   "cell_type": "code",
   "source": [
    "import numpy as np\n",
    "import pandas as pd\n",
    "import math\n",
    "import matplotlib.pyplot as plt\n",
    "from numba.cpython.builtins import max_iterable\n",
    "from sklearn.linear_model import LogisticRegression\n",
    "from sklearn.metrics import accuracy_score\n",
    "from sklearn.metrics import classification_report,confusion_matrix\n",
    "\n",
    "dataTrain=pd.read_csv('C:/Users/Admin/Desktop/WHU study/programming/python/MachineLearning/exp2/horseColicTraining.txt', sep='\\t', header=None)\n",
    "dataTest=pd.read_csv('C:/Users/Admin/Desktop/WHU study/programming/python/MachineLearning/exp2/horseColicTest.txt', sep='\\t', header=None)\n",
    "\n",
    "def sigmoid(x):\n",
    "    if x>=0:\n",
    "        return 1.0/(1+np.exp(-x))\n",
    "    else:\n",
    "        return np.exp(x)/(1+np.exp(x))\n",
    "\n",
    "def gradascent(dataMatrix, classLabels):\n",
    "    dataMatrix=np.mat(dataMatrix)\n",
    "    labelMat=np.mat(classLabels).transpose()\n",
    "    m,n=np.shape(dataMatrix)\n",
    "    alpha=0.001\n",
    "    maxCycles=500\n",
    "    weights=np.ones((n,1))\n",
    "    for k in range(maxCycles):\n",
    "        h=sigmoid(dataMatrix*weights)\n",
    "        error=(labelMat-h)\n",
    "        weights=weights+alpha*dataMatrix.transpose()*error# errormay\n",
    "    return weights\n",
    "\n",
    "def stocGradAscent(dataMatrix,classLabels,numIter=200):\n",
    "    m,n=np.shape(dataMatrix)\n",
    "    weights=np.ones(n)\n",
    "    for j in range(numIter):\n",
    "        dataIndex=list(range(m))\n",
    "        for i in range(m):\n",
    "            alpha=4/(1.0+j+i)+0.01\n",
    "            randIndex=int(np.random.uniform(0,len(dataIndex)))\n",
    "            h=sigmoid(sum(dataMatrix[randIndex]*weights))\n",
    "            error=classLabels[randIndex]-h\n",
    "            weights=weights+alpha*error*dataMatrix[randIndex]\n",
    "            del(dataIndex[randIndex])\n",
    "    return weights\n",
    "\n",
    "def classifyVector(x,weights):\n",
    "    prob=sigmoid(sum(x*weights))\n",
    "    if prob>0.5:\n",
    "        return 1.0\n",
    "    else:\n",
    "        return 0.0 \n",
    "\n",
    "# print(dataTrain[dataTrain.columns[0:-1]])\n",
    "weight=stocGradAscent(np.array(dataTrain[dataTrain.columns[0:-1]]),np.array(dataTrain[dataTrain.columns[-1]]))\n",
    "print(weight)\n",
    "y_pred=[]\n",
    "# print(sum(np.mat(dataTest[dataTest.columns[0:-1]].iloc[0])*weight))\n",
    "for i in range(len(dataTest)):\n",
    "    y_pred.append(classifyVector(np.array(dataTest[dataTest.columns[0:-1]].iloc[i]),weight))\n",
    "print(accuracy_score(dataTest[dataTest.columns[-1]],y_pred))\n",
    "print(confusion_matrix(dataTest[dataTest.columns[-1]],y_pred))\n",
    "print(classification_report(dataTest[dataTest.columns[-1]],y_pred))\n"
   ],
   "id": "c78e94e2ed944cac",
   "outputs": [
    {
     "name": "stdout",
     "output_type": "stream",
     "text": [
      "[ 27.21383138  -2.49636655   4.22140456  -3.76728802   1.1920145\n",
      "  -9.43434223  -0.31677144 -21.59025667 -13.5341711  -21.20437008\n",
      "  40.53510745 -42.70384699  60.04510995  19.12441163 -26.70756053\n",
      "   7.44465881  -5.84211943  -0.09262558  -0.74097668 -17.6552957\n",
      "  -3.88531458]\n",
      "0.5522388059701493\n",
      "[[19  1]\n",
      " [29 18]]\n",
      "              precision    recall  f1-score   support\n",
      "\n",
      "           0       0.40      0.95      0.56        20\n",
      "           1       0.95      0.38      0.55        47\n",
      "\n",
      "    accuracy                           0.55        67\n",
      "   macro avg       0.67      0.67      0.55        67\n",
      "weighted avg       0.78      0.55      0.55        67\n",
      "\n"
     ]
    }
   ],
   "execution_count": 21
  },
  {
   "metadata": {},
   "cell_type": "markdown",
   "source": [
    "5.采用sklearn.linear_model.LogisticRegression实现上述数据集Logistic\n",
    "回归预测病马死亡率。"
   ],
   "id": "c90db13f02895403"
  },
  {
   "metadata": {
    "ExecuteTime": {
     "end_time": "2024-10-14T13:16:05.128226Z",
     "start_time": "2024-10-14T13:16:04.876145Z"
    }
   },
   "cell_type": "code",
   "source": [
    "import numpy as np\n",
    "import pandas as pd\n",
    "import matplotlib.pyplot as plt\n",
    "import math\n",
    "from sklearn.linear_model import LogisticRegression\n",
    "from sklearn.metrics import accuracy_score\n",
    "from sklearn.metrics import classification_report,confusion_matrix\n",
    "\n",
    "dataTrain=pd.read_csv('C:/Users/Admin/Desktop/WHU study/programming/python/MachineLearning/exp2/horseColicTraining.txt', sep='\\t', header=None).head()\n",
    "dataTest=pd.read_csv('C:/Users/Admin/Desktop/WHU study/programming/python/MachineLearning/exp2/horseColicTest.txt', sep='\\t', header=None).head()\n",
    "\n",
    "model=LogisticRegression()\n",
    "model.fit(dataTrain[dataTrain.columns[0:-1]],dataTrain[dataTrain.columns[-1]])\n",
    "y_pred=model.predict(dataTest[dataTest.columns[0:-1]])\n",
    "print(accuracy_score(dataTest[dataTest.columns[-1]],y_pred))\n",
    "print(confusion_matrix(dataTest[dataTest.columns[-1]],y_pred))\n",
    "print(classification_report(dataTest[dataTest.columns[-1]],y_pred))\n"
   ],
   "id": "7fab6aae95785d27",
   "outputs": [
    {
     "name": "stdout",
     "output_type": "stream",
     "text": [
      "0.8\n",
      "[[1 0]\n",
      " [1 3]]\n",
      "              precision    recall  f1-score   support\n",
      "\n",
      "           0       0.50      1.00      0.67         1\n",
      "           1       1.00      0.75      0.86         4\n",
      "\n",
      "    accuracy                           0.80         5\n",
      "   macro avg       0.75      0.88      0.76         5\n",
      "weighted avg       0.90      0.80      0.82         5\n",
      "\n"
     ]
    }
   ],
   "execution_count": 25
  },
  {
   "metadata": {},
   "cell_type": "markdown",
   "source": [
    "通过访问：\n",
    "http://archive.ics.uci.edu/ml/machine-learning-databases/horsecolic/\n",
    "horse-colic.data 中提供的病马原始数据，采用sklearn.impute 中\n",
    "SimpleImputer对原始缺失数据进行处理（处理策略不限定，如：特殊\n",
    "值、均值等）。"
   ],
   "id": "d0d1d55b9e51e396"
  },
  {
   "metadata": {
    "ExecuteTime": {
     "end_time": "2024-10-16T02:13:06.873637Z",
     "start_time": "2024-10-16T02:13:05.634998Z"
    }
   },
   "cell_type": "code",
   "source": [
    "import numpy as np\n",
    "import pandas as pd\n",
    "import matplotlib.pyplot as plt\n",
    "import math\n",
    "from sklearn.linear_model import LogisticRegression\n",
    "from sklearn.metrics import accuracy_score\n",
    "from sklearn.metrics import classification_report,confusion_matrix\n",
    "from sklearn.impute import SimpleImputer\n",
    "from sklearn.model_selection import train_test_split\n",
    "\n",
    "data=pd.read_csv('http://archive.ics.uci.edu/ml/machine-learning-databases/horse-colic/horse-colic.data',sep=' ')\n",
    "data=data.replace('?',np.nan)\n",
    "imp=SimpleImputer(strategy='median')\n",
    "data=imp.fit_transform(data)\n",
    "data=pd.DataFrame(data)\n",
    "dataTrain,dataTest=train_test_split(data,test_size=0.2)\n",
    "model=LogisticRegression(max_iter=10000)\n",
    "model.fit(dataTrain[dataTrain.columns[0:-1]],dataTrain[dataTrain.columns[-1]])\n",
    "y_pred=model.predict(dataTest[dataTest.columns[0:-1]])\n",
    "print(accuracy_score(dataTest[dataTest.columns[-1]],y_pred))\n",
    "print(confusion_matrix(dataTest[dataTest.columns[-1]],y_pred))\n",
    "print(classification_report(dataTest[dataTest.columns[-1]],y_pred))\n"
   ],
   "id": "9dfacfb36e45a38c",
   "outputs": [
    {
     "name": "stderr",
     "output_type": "stream",
     "text": [
      "C:\\ProgramData\\anaconda3\\Lib\\site-packages\\sklearn\\impute\\_base.py:577: UserWarning: Skipping features without any observed values: ['2.4']. At least one non-missing value is needed for imputation with strategy='median'.\n",
      "  warnings.warn(\n"
     ]
    },
    {
     "name": "stdout",
     "output_type": "stream",
     "text": [
      "0.8333333333333334\n",
      "[[ 6  7]\n",
      " [ 3 44]]\n",
      "              precision    recall  f1-score   support\n",
      "\n",
      "         1.0       0.67      0.46      0.55        13\n",
      "         2.0       0.86      0.94      0.90        47\n",
      "\n",
      "    accuracy                           0.83        60\n",
      "   macro avg       0.76      0.70      0.72        60\n",
      "weighted avg       0.82      0.83      0.82        60\n",
      "\n"
     ]
    }
   ],
   "execution_count": 8
  }
 ],
 "metadata": {
  "kernelspec": {
   "display_name": "Python 3",
   "language": "python",
   "name": "python3"
  },
  "language_info": {
   "codemirror_mode": {
    "name": "ipython",
    "version": 2
   },
   "file_extension": ".py",
   "mimetype": "text/x-python",
   "name": "python",
   "nbconvert_exporter": "python",
   "pygments_lexer": "ipython2",
   "version": "2.7.6"
  }
 },
 "nbformat": 4,
 "nbformat_minor": 5
}
