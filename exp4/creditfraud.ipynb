{
 "cells": [
  {
   "metadata": {},
   "cell_type": "markdown",
   "source": "# Kaggle 上的信用卡欺诈数据集（https://www.kaggle.com/mlg-ulb/creditcardfraud）是一个非均衡数据集，请针对该数据集进行非均衡数据的处理（重采样、欠采样等），并使用数据集切分和交叉验证，分别训练和测试AdaBoost 以及XGBoost模型的性能（需要包含precision，recall，F1-score），绘制ROC 曲线计算AUC 值。",
   "id": "f123666e6da25ac8"
  },
  {
   "metadata": {},
   "cell_type": "code",
   "outputs": [],
   "execution_count": null,
   "source": [
    "import numpy as np\n",
    "import pandas as pd\n",
    "import matplotlib.pyplot as plt\n",
    "from sklearn.ensemble import AdaBoostClassifier\n",
    "from sklearn.ensemble import GradientBoostingClassifier\n",
    "from sklearn.model_selection import train_test_split\n",
    "from sklearn.metrics import classification_report\n",
    "from sklearn.metrics import roc_curve, auc\n",
    "from sklearn.metrics import confusion_matrix\n"
   ],
   "id": "6030d9908636434f"
  }
 ],
 "metadata": {
  "kernelspec": {
   "display_name": "Python 3",
   "language": "python",
   "name": "python3"
  },
  "language_info": {
   "codemirror_mode": {
    "name": "ipython",
    "version": 2
   },
   "file_extension": ".py",
   "mimetype": "text/x-python",
   "name": "python",
   "nbconvert_exporter": "python",
   "pygments_lexer": "ipython2",
   "version": "2.7.6"
  }
 },
 "nbformat": 4,
 "nbformat_minor": 5
}
