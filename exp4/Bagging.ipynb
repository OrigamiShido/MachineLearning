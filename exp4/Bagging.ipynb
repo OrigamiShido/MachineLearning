{
 "cells": [
  {
   "metadata": {},
   "cell_type": "markdown",
   "source": "# 对于Iris 数据集（sklearn 库自带鸢尾花数据集），试采用Bagging 方法如：随机森林以及Boosting 方法如：Adaboost 和SVM 分别进行分类（采用sklearn 库或者自编python 代码均可），对比几种算法的训练集误差、测试集误差和运行时间。",
   "id": "171e7c591c1a5813"
  },
  {
   "cell_type": "code",
   "execution_count": null,
   "id": "initial_id",
   "metadata": {
    "collapsed": true
   },
   "outputs": [],
   "source": [
    "import numpy as np\n",
    "import pandas as pd\n",
    "import matplotlib.pyplot as plt\n",
    "from sklearn.datasets import load_iris\n",
    "from sklearn.model_selection import train_test_split\n",
    "from sklearn.ensemble import RandomForestClassifier\n",
    "from sklearn.ensemble import AdaBoostClassifier \n",
    "from sklearn.svm import SVC\n",
    "from sklearn.metrics import accuracy_score\n",
    "import time"
   ]
  }
 ],
 "metadata": {
  "kernelspec": {
   "display_name": "Python 3",
   "language": "python",
   "name": "python3"
  },
  "language_info": {
   "codemirror_mode": {
    "name": "ipython",
    "version": 2
   },
   "file_extension": ".py",
   "mimetype": "text/x-python",
   "name": "python",
   "nbconvert_exporter": "python",
   "pygments_lexer": "ipython2",
   "version": "2.7.6"
  }
 },
 "nbformat": 4,
 "nbformat_minor": 5
}
