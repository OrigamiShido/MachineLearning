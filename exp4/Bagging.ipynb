{
 "cells": [
  {
   "metadata": {},
   "cell_type": "markdown",
   "source": "# 对于Iris 数据集（sklearn 库自带鸢尾花数据集），试采用Bagging 方法如：随机森林以及Boosting 方法如：Adaboost 和SVM 分别进行分类（采用sklearn 库或者自编python 代码均可），对比几种算法的训练集误差、测试集误差和运行时间。",
   "id": "171e7c591c1a5813"
  },
  {
   "cell_type": "code",
   "id": "initial_id",
   "metadata": {
    "collapsed": true,
    "ExecuteTime": {
     "end_time": "2024-11-04T12:45:03.649882Z",
     "start_time": "2024-11-04T12:45:03.451405Z"
    }
   },
   "source": [
    "import numpy as np\n",
    "import pandas as pd\n",
    "import matplotlib.pyplot as plt\n",
    "from sklearn.datasets import load_iris\n",
    "from sklearn.model_selection import train_test_split\n",
    "from sklearn.ensemble import RandomForestClassifier\n",
    "from sklearn.ensemble import AdaBoostClassifier \n",
    "from sklearn.svm import SVC\n",
    "from sklearn.metrics import accuracy_score\n",
    "import time\n",
    "\n",
    "# 加载数据\n",
    "iris = load_iris()\n",
    "X = iris.data\n",
    "y = iris.target\n",
    "X_train, X_test, y_train, y_test = train_test_split(X, y, test_size=0.3, random_state=42)\n",
    "\n",
    "# 随机森林\n",
    "start = time.time()\n",
    "clf = RandomForestClassifier(n_estimators=100)\n",
    "clf.fit(X_train, y_train)\n",
    "\n",
    "y_train_pred = clf.predict(X_train)\n",
    "y_test_pred = clf.predict(X_test)\n",
    "\n",
    "train_accuracy = accuracy_score(y_train, y_train_pred)\n",
    "test_accuracy = accuracy_score(y_test, y_test_pred)\n",
    "end = time.time()\n",
    "print('RandomForestClassifier')\n",
    "print('train_accuracy:', train_accuracy)\n",
    "print('test_accuracy:', test_accuracy)\n",
    "print('time:', end - start)\n",
    "\n",
    "# Adaboost\n",
    "start = time.time()\n",
    "clf = AdaBoostClassifier(n_estimators=100,algorithm='SAMME')\n",
    "clf.fit(X_train, y_train)\n",
    "\n",
    "y_train_pred = clf.predict(X_train)\n",
    "y_test_pred = clf.predict(X_test)\n",
    "\n",
    "train_accuracy = accuracy_score(y_train, y_train_pred)\n",
    "test_accuracy = accuracy_score(y_test, y_test_pred)\n",
    "end = time.time()\n",
    "print('AdaBoostClassifier')\n",
    "print('train_accuracy:', train_accuracy)\n",
    "print('test_accuracy:', test_accuracy)\n",
    "print('time:', end - start)\n",
    "\n",
    "# SVM\n",
    "start = time.time()\n",
    "clf = SVC()\n",
    "clf.fit(X_train, y_train)\n",
    "\n",
    "y_train_pred = clf.predict(X_train)\n",
    "y_test_pred = clf.predict(X_test)\n",
    "\n",
    "train_accuracy = accuracy_score(y_train, y_train_pred)\n",
    "test_accuracy = accuracy_score(y_test, y_test_pred)\n",
    "end = time.time()   \n",
    "print('SVC')\n",
    "print('train_accuracy:', train_accuracy)\n",
    "print('test_accuracy:', test_accuracy)\n",
    "print('time:', end - start)\n"
   ],
   "outputs": [
    {
     "name": "stdout",
     "output_type": "stream",
     "text": [
      "RandomForestClassifier\n",
      "train_accuracy: 1.0\n",
      "test_accuracy: 1.0\n",
      "time: 0.08752036094665527\n",
      "AdaBoostClassifier\n",
      "train_accuracy: 1.0\n",
      "test_accuracy: 1.0\n",
      "time: 0.09655189514160156\n",
      "SVC\n",
      "train_accuracy: 0.9619047619047619\n",
      "test_accuracy: 1.0\n",
      "time: 0.002002716064453125\n"
     ]
    }
   ],
   "execution_count": 6
  }
 ],
 "metadata": {
  "kernelspec": {
   "display_name": "Python 3",
   "language": "python",
   "name": "python3"
  },
  "language_info": {
   "codemirror_mode": {
    "name": "ipython",
    "version": 2
   },
   "file_extension": ".py",
   "mimetype": "text/x-python",
   "name": "python",
   "nbconvert_exporter": "python",
   "pygments_lexer": "ipython2",
   "version": "2.7.6"
  }
 },
 "nbformat": 4,
 "nbformat_minor": 5
}
