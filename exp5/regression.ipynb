{
 "cells": [
  {
   "metadata": {},
   "cell_type": "markdown",
   "source": "# 1. 采用局部加权线性回归，预测鲍鱼年龄（使用鲍鱼年龄数据集abalone.txt），随机选取部分数据分别用于训练、余下数据测试。采用不同核大小（不同k 值），分别计算训练误差和测试误差。",
   "id": "4185164dfcba8f24"
  },
  {
   "metadata": {
    "collapsed": true,
    "ExecuteTime": {
     "end_time": "2024-11-27T08:27:13.501889Z",
     "start_time": "2024-11-27T08:12:57.988851Z"
    }
   },
   "cell_type": "code",
   "source": [
    "import numpy as np\n",
    "import pandas as pd\n",
    "import matplotlib.pyplot as ple\n",
    "from sklearn.model_selection import train_test_split\n",
    "\n",
    "def lwlr(testPoint,xArr,yArr,k=1.0):\n",
    "    xMat=np.mat(xArr)\n",
    "    yMat=np.mat(yArr).T\n",
    "    m=np.shape(xMat)[0]\n",
    "    weights=np.mat(np.eye((m)))\n",
    "    for j in range(m):\n",
    "        diffMat=testPoint-xMat[j,:]\n",
    "        weights[j,j]=np.exp((diffMat*diffMat.T)[0,0]/(-2.0*k**2))\n",
    "    xTx=xMat.T*(weights*xMat)\n",
    "    if np.linalg.det(xTx)==0.0:\n",
    "        print('This matrix is singular, cannot do inverse')\n",
    "        return\n",
    "    ws=xTx.I*(xMat.T*(weights*yMat))\n",
    "    return (testPoint*ws)[0,0]\n",
    "\n",
    "def lwlrTest(testArr,xArr,yArr,k=1.0):\n",
    "    m=np.shape(testArr)[0]\n",
    "    yHat=np.zeros(m)\n",
    "    for i in range(m):\n",
    "        yHat[i]=lwlr(testArr[i],xArr,yArr,k)\n",
    "    return yHat\n",
    "\n",
    "def rssError(yArr,yHatArr):\n",
    "    return ((yArr-yHatArr)**2).sum()\n",
    "\n",
    "def MSE(yArr,yHatArr):\n",
    "    return ((yArr-yHatArr)**2).mean()\n",
    "\n",
    "data=pd.read_csv('abalone.txt',header=None,sep='\\t')\n",
    "X=np.array(data.iloc[:,:-1])\n",
    "y=np.array(data.iloc[:,-1])\n",
    "X_train,X_test,y_train,y_test=train_test_split(X,y,test_size=0.2,random_state=0)\n",
    "\n",
    "# X_train=X[0:99]\n",
    "# y_train=y[0:99]\n",
    "\n",
    "yHat01=lwlrTest(X_train,X_train,y_train,0.1)\n",
    "yHat1=lwlrTest(X_train,X_train,y_train,1)\n",
    "yHat10=lwlrTest(X_train,X_train,y_train,10)\n",
    "\n",
    "# 测试误差\n",
    "print('k=0.1时，训练误差：',MSE(y_train,yHat01.T))\n",
    "print('k=1时，训练误差：',MSE(y_train,yHat1.T))\n",
    "print('k=10时，训练误差：',MSE(y_train,yHat10.T))\n",
    "\n",
    "yHat01=lwlrTest(X_test,X_train,y_train,0.1)\n",
    "yHat1=lwlrTest(X_test,X_train,y_train,1)\n",
    "yHat10=lwlrTest(X_test,X_train,y_train,10)\n",
    "\n",
    "# 测试误差\n",
    "print('k=0.1时，测试误差：',MSE(y_test,yHat01.T))\n",
    "print('k=1时，测试误差：',MSE(y_test,yHat1.T))\n",
    "print('k=10时，测试误差：',MSE(y_test,yHat10.T))\n",
    "\n"
   ],
   "id": "initial_id",
   "outputs": [
    {
     "name": "stdout",
     "output_type": "stream",
     "text": [
      "k=0.1时，训练误差： 21.701545093265118\n",
      "k=1时，训练误差： 4.773287028096537\n",
      "k=10时，训练误差： 5.009129068008318\n",
      "k=0.1时，测试误差： 5.1372752616870825\n",
      "k=1时，测试误差： 5.0449036133910345\n",
      "k=10时，测试误差： 5.215195078965419\n"
     ]
    }
   ],
   "execution_count": 1
  }
 ],
 "metadata": {
  "kernelspec": {
   "display_name": "Python 3",
   "language": "python",
   "name": "python3"
  },
  "language_info": {
   "codemirror_mode": {
    "name": "ipython",
    "version": 2
   },
   "file_extension": ".py",
   "mimetype": "text/x-python",
   "name": "python",
   "nbconvert_exporter": "python",
   "pygments_lexer": "ipython2",
   "version": "2.7.6"
  }
 },
 "nbformat": 4,
 "nbformat_minor": 5
}
