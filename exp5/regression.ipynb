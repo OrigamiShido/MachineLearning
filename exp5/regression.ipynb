{
 "cells": [
  {
   "metadata": {},
   "cell_type": "markdown",
   "source": "# 1. 采用局部加权线性回归，预测鲍鱼年龄（使用鲍鱼年龄数据集abalone.txt），随机选取部分数据分别用于训练、余下数据测试。采用不同核大小（不同k 值），分别计算训练误差和测试误差。",
   "id": "4185164dfcba8f24"
  },
  {
   "metadata": {
    "collapsed": true,
    "ExecuteTime": {
     "end_time": "2024-11-18T13:13:20.449239Z",
     "start_time": "2024-11-18T13:13:03.254162Z"
    }
   },
   "cell_type": "code",
   "source": [
    "import numpy as np\n",
    "import pandas as pd\n",
    "import matplotlib.pyplot as ple\n",
    "from sklearn.model_selection import train_test_split\n",
    "\n",
    "def lwlr(testPoint,xArr,yArr,k=1.0):\n",
    "    xMat=np.mat(xArr)\n",
    "    yMat=np.mat(yArr).T\n",
    "    m=np.shape(xMat)[0]\n",
    "    weights=np.mat(np.eye((m)))\n",
    "    for j in range(m):\n",
    "        diffMat=testPoint-xMat[j,:]\n",
    "        weights[j,j]=np.exp((diffMat*diffMat.T)[0,0]/(-2.0*k**2))\n",
    "    xTx=xMat.T*(weights*xMat)\n",
    "    if np.linalg.det(xTx)==0.0:\n",
    "        print('This matrix is singular, cannot do inverse')\n",
    "        return \n",
    "    ws=xTx.T*(xMat.T*(weights*yMat))\n",
    "    return (testPoint*ws)[0,0]\n",
    "\n",
    "def lwlrTest(testArr,xArr,yArr,k=1.0):\n",
    "    m=np.shape(testArr)[0]\n",
    "    yHat=np.zeros(m)\n",
    "    for i in range(m):\n",
    "        yHat[i]=lwlr(testArr[i],xArr,yArr,k)\n",
    "    return yHat\n",
    "\n",
    "def rssError(yArr,yHatArr):\n",
    "    return ((yArr-yHatArr)**2).sum()\n",
    "\n",
    "data=pd.read_csv('abalone.txt',header=None,sep='\\t')\n",
    "X=np.array(data.iloc[:,:-1])\n",
    "y=np.array(data.iloc[:,-1])\n",
    "X_train,X_test,y_train,y_test=train_test_split(X,y,test_size=0.3,random_state=0)\n",
    "\n",
    "yHat01=lwlrTest(X_test,X_train,y_train,0.1)\n",
    "yHat1=lwlrTest(X_test,X_train,y_train,1)\n",
    "yHat10=lwlrTest(X_test,X_train,y_train,10)\n"
   ],
   "id": "initial_id",
   "outputs": [
    {
     "ename": "KeyboardInterrupt",
     "evalue": "",
     "output_type": "error",
     "traceback": [
      "\u001B[1;31m---------------------------------------------------------------------------\u001B[0m",
      "\u001B[1;31mKeyboardInterrupt\u001B[0m                         Traceback (most recent call last)",
      "Cell \u001B[1;32mIn[4], line 36\u001B[0m\n\u001B[0;32m     33\u001B[0m y\u001B[38;5;241m=\u001B[39mnp\u001B[38;5;241m.\u001B[39marray(data\u001B[38;5;241m.\u001B[39miloc[:,\u001B[38;5;241m-\u001B[39m\u001B[38;5;241m1\u001B[39m])\n\u001B[0;32m     34\u001B[0m X_train,X_test,y_train,y_test\u001B[38;5;241m=\u001B[39mtrain_test_split(X,y,test_size\u001B[38;5;241m=\u001B[39m\u001B[38;5;241m0.3\u001B[39m,random_state\u001B[38;5;241m=\u001B[39m\u001B[38;5;241m0\u001B[39m)\n\u001B[1;32m---> 36\u001B[0m yHat01\u001B[38;5;241m=\u001B[39mlwlrTest(X_test,X_train,y_train,\u001B[38;5;241m0.1\u001B[39m)\n\u001B[0;32m     37\u001B[0m yHat1\u001B[38;5;241m=\u001B[39mlwlrTest(X_test,X_train,y_train,\u001B[38;5;241m1\u001B[39m)\n\u001B[0;32m     38\u001B[0m yHat10\u001B[38;5;241m=\u001B[39mlwlrTest(X_test,X_train,y_train,\u001B[38;5;241m10\u001B[39m)\n",
      "Cell \u001B[1;32mIn[4], line 25\u001B[0m, in \u001B[0;36mlwlrTest\u001B[1;34m(testArr, xArr, yArr, k)\u001B[0m\n\u001B[0;32m     23\u001B[0m yHat\u001B[38;5;241m=\u001B[39mnp\u001B[38;5;241m.\u001B[39mzeros(m)\n\u001B[0;32m     24\u001B[0m \u001B[38;5;28;01mfor\u001B[39;00m i \u001B[38;5;129;01min\u001B[39;00m \u001B[38;5;28mrange\u001B[39m(m):\n\u001B[1;32m---> 25\u001B[0m     yHat[i]\u001B[38;5;241m=\u001B[39mlwlr(testArr[i],xArr,yArr,k)\n\u001B[0;32m     26\u001B[0m \u001B[38;5;28;01mreturn\u001B[39;00m yHat\n",
      "Cell \u001B[1;32mIn[4], line 14\u001B[0m, in \u001B[0;36mlwlr\u001B[1;34m(testPoint, xArr, yArr, k)\u001B[0m\n\u001B[0;32m     12\u001B[0m     diffMat\u001B[38;5;241m=\u001B[39mtestPoint\u001B[38;5;241m-\u001B[39mxMat[j,:]\n\u001B[0;32m     13\u001B[0m     weights[j,j]\u001B[38;5;241m=\u001B[39mnp\u001B[38;5;241m.\u001B[39mexp((diffMat\u001B[38;5;241m*\u001B[39mdiffMat\u001B[38;5;241m.\u001B[39mT)[\u001B[38;5;241m0\u001B[39m,\u001B[38;5;241m0\u001B[39m]\u001B[38;5;241m/\u001B[39m(\u001B[38;5;241m-\u001B[39m\u001B[38;5;241m2.0\u001B[39m\u001B[38;5;241m*\u001B[39mk\u001B[38;5;241m*\u001B[39m\u001B[38;5;241m*\u001B[39m\u001B[38;5;241m2\u001B[39m))\n\u001B[1;32m---> 14\u001B[0m xTx\u001B[38;5;241m=\u001B[39mxMat\u001B[38;5;241m.\u001B[39mT\u001B[38;5;241m*\u001B[39m(weights\u001B[38;5;241m*\u001B[39mxMat)\n\u001B[0;32m     15\u001B[0m \u001B[38;5;28;01mif\u001B[39;00m np\u001B[38;5;241m.\u001B[39mlinalg\u001B[38;5;241m.\u001B[39mdet(xTx)\u001B[38;5;241m==\u001B[39m\u001B[38;5;241m0.0\u001B[39m:\n\u001B[0;32m     16\u001B[0m     \u001B[38;5;28mprint\u001B[39m(\u001B[38;5;124m'\u001B[39m\u001B[38;5;124mThis matrix is singular, cannot do inverse\u001B[39m\u001B[38;5;124m'\u001B[39m)\n",
      "File \u001B[1;32mC:\\ProgramData\\anaconda3\\Lib\\site-packages\\numpy\\matrixlib\\defmatrix.py:219\u001B[0m, in \u001B[0;36mmatrix.__mul__\u001B[1;34m(self, other)\u001B[0m\n\u001B[0;32m    216\u001B[0m \u001B[38;5;28;01mdef\u001B[39;00m \u001B[38;5;21m__mul__\u001B[39m(\u001B[38;5;28mself\u001B[39m, other):\n\u001B[0;32m    217\u001B[0m     \u001B[38;5;28;01mif\u001B[39;00m \u001B[38;5;28misinstance\u001B[39m(other, (N\u001B[38;5;241m.\u001B[39mndarray, \u001B[38;5;28mlist\u001B[39m, \u001B[38;5;28mtuple\u001B[39m)) :\n\u001B[0;32m    218\u001B[0m         \u001B[38;5;66;03m# This promotes 1-D vectors to row vectors\u001B[39;00m\n\u001B[1;32m--> 219\u001B[0m         \u001B[38;5;28;01mreturn\u001B[39;00m N\u001B[38;5;241m.\u001B[39mdot(\u001B[38;5;28mself\u001B[39m, asmatrix(other))\n\u001B[0;32m    220\u001B[0m     \u001B[38;5;28;01mif\u001B[39;00m isscalar(other) \u001B[38;5;129;01mor\u001B[39;00m \u001B[38;5;129;01mnot\u001B[39;00m \u001B[38;5;28mhasattr\u001B[39m(other, \u001B[38;5;124m'\u001B[39m\u001B[38;5;124m__rmul__\u001B[39m\u001B[38;5;124m'\u001B[39m) :\n\u001B[0;32m    221\u001B[0m         \u001B[38;5;28;01mreturn\u001B[39;00m N\u001B[38;5;241m.\u001B[39mdot(\u001B[38;5;28mself\u001B[39m, other)\n",
      "\u001B[1;31mKeyboardInterrupt\u001B[0m: "
     ]
    }
   ],
   "execution_count": 4
  }
 ],
 "metadata": {
  "kernelspec": {
   "display_name": "Python 3",
   "language": "python",
   "name": "python3"
  },
  "language_info": {
   "codemirror_mode": {
    "name": "ipython",
    "version": 2
   },
   "file_extension": ".py",
   "mimetype": "text/x-python",
   "name": "python",
   "nbconvert_exporter": "python",
   "pygments_lexer": "ipython2",
   "version": "2.7.6"
  }
 },
 "nbformat": 4,
 "nbformat_minor": 5
}
