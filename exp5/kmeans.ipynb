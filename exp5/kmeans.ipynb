{
 "cells": [
  {
   "metadata": {},
   "cell_type": "markdown",
   "source": [
    "# 2. 使用二分k-means 算法对地图上的点聚类\n",
    "使用places.txt 文件中地图上的点的纬度和经度数据（第4 列、第5 列），采用二分k-means 对地图上的点聚类（k 设定为5）。"
   ],
   "id": "bdb75530f88e4d91"
  },
  {
   "cell_type": "code",
   "id": "initial_id",
   "metadata": {
    "collapsed": true,
    "ExecuteTime": {
     "end_time": "2024-11-27T10:11:34.728661Z",
     "start_time": "2024-11-27T10:11:34.518596Z"
    }
   },
   "source": [
    "import numpy as np\n",
    "import pandas as pd\n",
    "import matplotlib.pyplot as plt\n",
    "\n",
    "def distEclud(vecA,vecB):\n",
    "    return np.sqrt(np.sum(np.power(vecA-vecB,2)))\n",
    "\n",
    "def randCent(dataSet,k):\n",
    "    n=np.shape(dataSet)[1]\n",
    "    centroids=np.mat(np.zeros((k,n)))\n",
    "    for j in range(n):\n",
    "        minJ=np.min(dataSet[:,j])\n",
    "        rangeJ=float(np.max(dataSet[:,j])-minJ)\n",
    "        centroids[:,j]=minJ+rangeJ*np.random.rand(k,1)\n",
    "    return centroids\n",
    "\n",
    "def kMeans(dataSet,k,distMeas=distEclud,createCent=randCent):\n",
    "    m=np.shape(dataSet)[0]\n",
    "    clusterAssment=np.mat(np.zeros((m,2)))\n",
    "    centroids=createCent(dataSet,k)\n",
    "    clusterChanged=True\n",
    "    while clusterChanged:\n",
    "        clusterChanged=False\n",
    "        for i in range(m):\n",
    "            minDist=np.inf\n",
    "            minIndex=-1\n",
    "            for j in range(k):\n",
    "                distJI=distMeas(centroids[j,:],dataSet[i,:])\n",
    "                if distJI<minDist:\n",
    "                    minDist=distJI\n",
    "                    minIndex=j\n",
    "            if clusterAssment[i,0]!=minIndex:\n",
    "                clusterChanged=True\n",
    "            clusterAssment[i,:]=minIndex,minDist**2\n",
    "        # print(centroids)\n",
    "        for cent in range(k):\n",
    "            ptsInClust=dataSet[np.nonzero(clusterAssment[:,0].A==cent)[0]]\n",
    "            centroids[cent,:]=np.mean(ptsInClust,axis=0)\n",
    "    return centroids,clusterAssment\n",
    "\n",
    "def biKmeans(dataSet,k,distMeas=distEclud):\n",
    "    m=np.shape(dataSet)[0]\n",
    "    clusterAssment=np.mat(np.zeros((m,2)))\n",
    "    centroid0=np.mean(dataSet,axis=0).tolist()[0]\n",
    "    centList=[centroid0]\n",
    "    for j in range(m):\n",
    "        clusterAssment[j,1]=distMeas(np.mat(centroid0),dataSet[j,:])**2\n",
    "    while len(centList)<k:\n",
    "        lowestSSE=np.inf\n",
    "        for i in range(len(centList)):\n",
    "            ptsInCurrCluster=dataSet[np.nonzero(clusterAssment[:,0].A==i)[0],:]\n",
    "            centroidMat,splitClustAss=kMeans(ptsInCurrCluster,2,distMeas)\n",
    "            sseSplit=np.sum(splitClustAss[:,1])\n",
    "            sseNotSplit=np.sum(clusterAssment[np.nonzero(clusterAssment[:,0].A!=i)[0],1])\n",
    "            # print('sseSplit, and notSplit:',sseSplit,sseNotSplit)\n",
    "            if (sseSplit+sseNotSplit)<lowestSSE:\n",
    "                bestCentToSplit=i\n",
    "                bestNewCents=centroidMat\n",
    "                bestClustAss=splitClustAss.copy()\n",
    "                lowestSSE=sseSplit+sseNotSplit\n",
    "        bestClustAss[np.nonzero(bestClustAss[:,0].A==1)[0],0]=len(centList)\n",
    "        bestClustAss[np.nonzero(bestClustAss[:,0].A==0)[0],0]=bestCentToSplit\n",
    "        print('the bestCentToSplit is:',bestCentToSplit)\n",
    "        print('the len of bestClustAss is:',len(bestClustAss))\n",
    "        centList[bestCentToSplit]=bestNewCents[0,:]\n",
    "        centList.append(bestNewCents[1,:])\n",
    "        clusterAssment[np.nonzero(clusterAssment[:,0].A==bestCentToSplit)[0],:]=bestClustAss\n",
    "    centList=list(map(lambda x:[x[0],x[1]],[np.matrix.tolist(i)[0] for i in centList]))\n",
    "    return np.mat(centList),clusterAssment       \n",
    "\n",
    "def distSLC(vecA,vecB):\n",
    "    a=np.sin(vecA[0,1]*np.pi/180)*np.sin(vecB[0,1]*np.pi/180)\n",
    "    b=np.cos(vecA[0,1]*np.pi/180)*np.cos(vecB[0,1]*np.pi/180)*np.cos(np.pi*(vecB[0,0]-vecA[0,0])/180)\n",
    "    return np.arccos(a+b)*6371.0\n",
    "\n",
    "def clusterClubs(numClust=5):\n",
    "    datList=[]\n",
    "    for line in open('places.txt').readlines():\n",
    "        lineArr=line.split('\\t')\n",
    "        datList.append([float(lineArr[4]),float(lineArr[3])])\n",
    "    datMat=np.mat(datList)\n",
    "    myCentroids,clustAssing=biKmeans(datMat,numClust,distMeas=distSLC)\n",
    "    fig=plt.figure()\n",
    "    rect=[0.1,0.1,0.8,0.8]\n",
    "    scatterMarkers=['s','o' ,'^','8','p','d','v','h','>','<']\n",
    "    axprops=dict(xticks=[],yticks=[])\n",
    "    ax0=fig.add_axes(rect,label='ax0',**axprops)\n",
    "    # imgP=plt.imread('Portland.png')\n",
    "    # ax0.imshow(imgP)\n",
    "    ax1=fig.add_axes(rect,label='ax1',frameon=False)\n",
    "    for i in range(numClust):\n",
    "        ptsInCurrCluster=datMat[np.nonzero(clustAssing[:,0].A==i)[0],:]\n",
    "        markerStyle=scatterMarkers[i % len(scatterMarkers)]\n",
    "        ax1.scatter(ptsInCurrCluster[:,0].flatten().A[0],ptsInCurrCluster[:,1].flatten().A[0],marker=markerStyle,s=90)\n",
    "    ax1.scatter(myCentroids[:,0].flatten().A[0],myCentroids[:,1].flatten().A[0],marker='+',s=300)\n",
    "    plt.show()\n",
    "    \n",
    "clusterClubs()"
   ],
   "outputs": [
    {
     "name": "stdout",
     "output_type": "stream",
     "text": [
      "the bestCentToSplit is: 0\n",
      "the len of bestClustAss is: 69\n",
      "the bestCentToSplit is: 1\n",
      "the len of bestClustAss is: 53\n",
      "the bestCentToSplit is: 0\n",
      "the len of bestClustAss is: 16\n",
      "the bestCentToSplit is: 1\n",
      "the len of bestClustAss is: 35\n"
     ]
    },
    {
     "data": {
      "text/plain": [
       "<Figure size 640x480 with 2 Axes>"
      ],
      "image/png": "[encoded data removed]"
     },
     "metadata": {},
     "output_type": "display_data"
    }
   ],
   "execution_count": 12
  }
 ],
 "metadata": {
  "kernelspec": {
   "display_name": "Python 3",
   "language": "python",
   "name": "python3"
  },
  "language_info": {
   "codemirror_mode": {
    "name": "ipython",
    "version": 2
   },
   "file_extension": ".py",
   "mimetype": "text/x-python",
   "name": "python",
   "nbconvert_exporter": "python",
   "pygments_lexer": "ipython2",
   "version": "2.7.6"
  }
 },
 "nbformat": 4,
 "nbformat_minor": 5
}
