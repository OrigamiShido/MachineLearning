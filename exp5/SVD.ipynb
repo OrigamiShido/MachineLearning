{
 "cells": [
  {
   "metadata": {},
   "cell_type": "markdown",
   "source": [
    "# 5.对于用户和菜肴打分的场景可构建如下图所示矩阵，\n",
    "对该矩阵进行SVD 分解降维，在低维空间下利用item-based 协\n",
    "同推荐方法进行推荐。（采用余弦相似性进行计算）"
   ],
   "id": "489ce84d0d55f05"
  },
  {
   "cell_type": "code",
   "execution_count": null,
   "id": "initial_id",
   "metadata": {
    "collapsed": true
   },
   "outputs": [],
   "source": [
    "import numpy as np\n",
    "import pandas as pd\n",
    "import matplotlib.pyplot as plt\n",
    "from numpy import linalg as la\n",
    "\n",
    "def euclidSim(inA, inB):\n",
    "    return 1.0 / (1.0 + la.norm(inA - inB))\n",
    "\n",
    "def pearsSim(inA,inB):\n",
    "    if len(inA)<3:\n",
    "        return 1.0\n",
    "    return 0.5+0.5*np.corrcoef(inA,inB,rowvar=0)[0][1]\n",
    "\n",
    "def cosSim(inA,inB):\n",
    "    num=float(inA.T*inB)\n",
    "    denom=la.norm(inA)*la.norm(inB)\n",
    "    return 0.5+0.5*(num/denom)\n",
    "\n",
    "def standEst(datamat,user,sinMeas,item):\n",
    "    n=np.shape(datamat)[1]\n",
    "    simTtal=0.0\n",
    "    ratSimTotal=0.0\n",
    "    for j in range(n):\n",
    "        userRating=datamat[user,j]\n",
    "        if userRating==0:\n",
    "            continue\n",
    "        overLap=np.nonzero(np.logical_and(datamat[:,item]>0,datamat[:,j]>0))[0]\n",
    "        if len(overLap)==0:\n",
    "            similarity=0\n",
    "        else:\n",
    "            similarity=sinMeas(datamat[overLap,item],datamat[overLap,j])\n",
    "        simTtal+=similarity\n",
    "        ratSimTotal+=similarity*userRating\n",
    "    if simTotal==0:\n",
    "        return 0\n",
    "    else:\n",
    "        return ratSimTotal/SimTotal\n",
    "\n",
    "def recomment(dataMat,user,N=3,simmeas=cosSim,estmethod=standEst):\n",
    "    unratedItems=np.nonzero(dataMat[user,:].A==0)[1]\n",
    "    if len(unratedItems)==0:\n",
    "        return 'you rated everything'\n",
    "    itemScores=[]\n",
    "    for item in unratedItems:\n",
    "        estimatedScore=estmethod(dataMat,user,simmeas,item)\n",
    "        itemScores.append((item,estimatedScore))\n",
    "    return sorted(itemScores,key=lambda jj:jj[1],reverse=True)[:N]\n",
    "\n",
    "def svvdEst(dataMat,user,simmeas,item):\n",
    "    n=np.shape(datamat)[1]\n",
    "    simTotal=0.0\n",
    "    ratSimTotal=0.0\n",
    "    U,Sigma,VT=la.svd(dataMat)\n",
    "    Sig4=mat(eye(4)*Sigma[:4])\n",
    "    xformedItems=dataMat.T*U[:,:4]*Sig4.I\n",
    "    for j in range(n):\n",
    "        userRating=dataMat[user,j]\n",
    "        if userrating==0 or j ==item:\n",
    "            continue\n",
    "        similarity=simmeas(xformedItems[item,:].T,xformedItems[j,:].T)\n",
    "        simTotal+=similarity\n",
    "        ratSimTotal+=similarity*userRating\n",
    "    if simTotal==0:\n",
    "        return 0\n",
    "    else:\n",
    "        return ratSimTotal/simTotal\n",
    "\n",
    "data=np.mat([[2,0,0,4,4,0,0,0,0,0,0],[0,0,0,0,0,0,0,0,0,0,5],[0,0,0,0,0,0,0,1,0,4,0],[3,3,4,0,3,0,0,2,2,0,0],[5,5,5,0,0,0,0,0,0,0,0],[0,0,0,0,0,0,5,0,0,0,5,0],[4,0,4,0,0,0,0,0,0,0,5],[0,0,0,0,0,4,0,0,0,0,4],[0,0,0,0,0,0,5,0,0,5,0],[0,0,0,3,0,0,0,0,4,5,0],[1,1,2,1,1,2,1,0,4,5,0]])\n",
    "\n"
   ]
  }
 ],
 "metadata": {
  "kernelspec": {
   "display_name": "Python 3",
   "language": "python",
   "name": "python3"
  },
  "language_info": {
   "codemirror_mode": {
    "name": "ipython",
    "version": 2
   },
   "file_extension": ".py",
   "mimetype": "text/x-python",
   "name": "python",
   "nbconvert_exporter": "python",
   "pygments_lexer": "ipython2",
   "version": "2.7.6"
  }
 },
 "nbformat": 4,
 "nbformat_minor": 5
}
