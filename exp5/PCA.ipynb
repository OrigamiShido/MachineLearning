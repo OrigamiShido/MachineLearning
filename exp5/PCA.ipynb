{
 "cells": [
  {
   "metadata": {},
   "cell_type": "markdown",
   "source": [
    "# 4. 利用PCA 对半导体制造数据集secom.data\n",
    "(http://archive.ics.uci.edu/ml/machine-learning-databases/secom)\n",
    "进行降维。注:该数据包含了较多缺失值，采用平均值对所有缺失值进行替换，平均值由非缺失的数据得到。在实验中取不同的主成分截断值来检验性能。采用自编python 代码和使用sklearn 库分别实现。"
   ],
   "id": "ee0336c88af09b26"
  },
  {
   "cell_type": "code",
   "execution_count": null,
   "id": "initial_id",
   "metadata": {
    "collapsed": true
   },
   "outputs": [],
   "source": [
    "import numpy as np\n",
    "import pandas as pd\n",
    "import matplotlib.pyplot as plt\n",
    "\n",
    "def pca(datamat,topNfeat=9999999):\n",
    "    meanVals=np.mean(dataMat,axis=0)\n",
    "    meanRemoved=dataMat-meanVals\n",
    "    covmat-np.cov(meanremoved,rowvar=0)\n",
    "    eigVals,eigVects=np.linalg.eig(np.mat(covMat))\n",
    "    eigValInd=np.argsort(eigVals)\n",
    "    eigVVvalInd=eigValInd[:-(topNfeat+1):-1]\n",
    "    regEigVects=eigVects[:,eigalInd]\n",
    "    lowDDataMat=meanRemoved=regEigVectsreconmat=(lowDDataMat*redeigvents.T)+meanVals\n",
    "    return lowDDataMat,reconMat\n",
    "\n",
    "def replacenanwithmean():\n",
    "    datAmat=lkoadDatSet('secom.data',' ')\n",
    "    numFeat=np.shhape(datMat)[1]\n",
    "    for i in range(numfeat):\n",
    "        meanval=np.mean(datnat[np.nonzero(~np.isnan(datmat[:,i].A))[0]])\n",
    "        datMat[np.nonzero(np.isnan(datMat[:,i].A))[0],i]=meanVal\n",
    "    return datMat\n",
    "\n"
   ]
  },
  {
   "metadata": {},
   "cell_type": "code",
   "outputs": [],
   "execution_count": null,
   "source": [
    "import numpy as np\n",
    "import pandas as pd\n",
    "import matplotlib.pyplot as plt\n",
    "from sklearn.decomposition import PCA"
   ],
   "id": "89a8d59cc8725f81"
  }
 ],
 "metadata": {
  "kernelspec": {
   "display_name": "Python 3",
   "language": "python",
   "name": "python3"
  },
  "language_info": {
   "codemirror_mode": {
    "name": "ipython",
    "version": 2
   },
   "file_extension": ".py",
   "mimetype": "text/x-python",
   "name": "python",
   "nbconvert_exporter": "python",
   "pygments_lexer": "ipython2",
   "version": "2.7.6"
  }
 },
 "nbformat": 4,
 "nbformat_minor": 5
}
