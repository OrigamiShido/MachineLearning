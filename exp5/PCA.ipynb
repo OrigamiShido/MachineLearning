{
 "cells": [
  {
   "metadata": {},
   "cell_type": "markdown",
   "source": [
    "# 4. 利用PCA 对半导体制造数据集secom.data\n",
    "(http://archive.ics.uci.edu/ml/machine-learning-databases/secom)\n",
    "进行降维。注:该数据包含了较多缺失值，采用平均值对所有缺失值进行替换，平均值由非缺失的数据得到。在实验中取不同的主成分截断值来检验性能。采用自编python 代码和使用sklearn 库分别实现。"
   ],
   "id": "ee0336c88af09b26"
  },
  {
   "cell_type": "code",
   "id": "initial_id",
   "metadata": {
    "collapsed": true,
    "ExecuteTime": {
     "end_time": "2024-11-27T10:46:29.720359Z",
     "start_time": "2024-11-27T10:46:29.082658Z"
    }
   },
   "source": [
    "from dataclasses import replace\n",
    "\n",
    "import numpy as np\n",
    "import pandas as pd\n",
    "import matplotlib.pyplot as plt\n",
    "from sklearn.impute import SimpleImputer\n",
    "\n",
    "\n",
    "def loadDataSet(fileName, delim='\\t'):\n",
    "    fr=open(fileName)\n",
    "    stringArr=[line.strip().split(delim) for line in fr.readlines()]\n",
    "    datArr=[list(map(float,line)) for line in stringArr]\n",
    "    return np.mat(datArr)\n",
    "\n",
    "def pca(dataMat,topNfeat=9999999):\n",
    "    meanVals=np.mean(dataMat,axis=0)\n",
    "    meanRemoved=dataMat-meanVals\n",
    "    covMat=np.cov(meanRemoved,rowvar=0)\n",
    "    eigVals,eigVects=np.linalg.eig(np.mat(covMat))\n",
    "    eigValInd=np.argsort(eigVals)\n",
    "    eigValInd=eigValInd[:-(topNfeat+1):-1]\n",
    "    redEigVects=eigVects[:,eigValInd]\n",
    "    lowDDataMat=meanRemoved*redEigVects\n",
    "    reconMat=(lowDDataMat*redEigVects.T)+meanVals\n",
    "    return lowDDataMat,reconMat,np.sum(eigVals[:topNfeat])/np.sum(eigVals)\n",
    "\n",
    "def replaceNanWithMean():\n",
    "    datMat=loadDataSet('secom.data',' ')\n",
    "    numFeat=np.shape(datMat)[1]\n",
    "    for i in range(numFeat):\n",
    "        meanVal=np.mean(datMat[np.nonzero(~np.isnan(datMat[:,i].A))[0],i])\n",
    "        datMat[np.nonzero(np.isnan(datMat[:,i].A))[0],i]=meanVal\n",
    "    return datMat\n",
    "\n",
    "data=replaceNanWithMean()\n",
    "\n",
    "lowdMat,reconMat,rate=pca(data,topNfeat=10)\n",
    "# print(np.shape(lowdMat))\n",
    "# print(reconMat)\n",
    "print(rate)\n",
    "\n",
    "# meanVals=np.mean(data,axis=0)\n",
    "# meanRemoved=data-meanVals\n",
    "# covMat=np.cov(meanRemoved,rowvar=0)\n",
    "# eigVals,eigVects=np.linalg.eig(np.mat(covMat))\n",
    "# print(eigVals)"
   ],
   "outputs": [
    {
     "name": "stdout",
     "output_type": "stream",
     "text": [
      "0.9793819977689154\n"
     ]
    }
   ],
   "execution_count": 10
  },
  {
   "metadata": {
    "ExecuteTime": {
     "end_time": "2024-11-27T10:22:44.925540Z",
     "start_time": "2024-11-27T10:22:44.682932Z"
    }
   },
   "cell_type": "code",
   "source": [
    "import numpy as np\n",
    "import pandas as pd\n",
    "import matplotlib.pyplot as plt\n",
    "from sklearn.decomposition import PCA\n",
    "from sklearn.impute import SimpleImputer\n",
    "\n",
    "data=pd.read_csv('secom.data',sep=' ',header=None)\n",
    "si=SimpleImputer(missing_values=np.nan,strategy='mean')\n",
    "data=si.fit_transform(data)\n",
    "data=data.astype(float)\n",
    "pca=PCA(n_components=20)\n",
    "pca.fit(data)\n",
    "lowdMat=pca.transform(data)\n",
    "reconMat=pca.inverse_transform(lowdMat)\n",
    "# print(np.shape(lowdMat))\n",
    "# print(reconMat)\n",
    "print(sum(pca.explained_variance_ratio_))"
   ],
   "id": "43ccf3e56fcda3e1",
   "outputs": [
    {
     "name": "stdout",
     "output_type": "stream",
     "text": [
      "0.9927235769431092\n"
     ]
    }
   ],
   "execution_count": 9
  }
 ],
 "metadata": {
  "kernelspec": {
   "display_name": "Python 3",
   "language": "python",
   "name": "python3"
  },
  "language_info": {
   "codemirror_mode": {
    "name": "ipython",
    "version": 2
   },
   "file_extension": ".py",
   "mimetype": "text/x-python",
   "name": "python",
   "nbconvert_exporter": "python",
   "pygments_lexer": "ipython2",
   "version": "2.7.6"
  }
 },
 "nbformat": 4,
 "nbformat_minor": 5
}
