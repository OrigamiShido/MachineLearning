{
 "cells": [
  {
   "metadata": {},
   "cell_type": "markdown",
   "source": "# 3. 采用sklearn 中make_moons 生成半月形数据集，分别采用kmeans 聚类和DBSCAN 聚类，采用matplotlib 绘制图形聚类结果，比较聚类效果。",
   "id": "13226f26e0aea4cd"
  },
  {
   "cell_type": "code",
   "execution_count": null,
   "id": "initial_id",
   "metadata": {
    "collapsed": true
   },
   "outputs": [],
   "source": [
    ""
   ]
  }
 ],
 "metadata": {
  "kernelspec": {
   "display_name": "Python 3",
   "language": "python",
   "name": "python3"
  },
  "language_info": {
   "codemirror_mode": {
    "name": "ipython",
    "version": 2
   },
   "file_extension": ".py",
   "mimetype": "text/x-python",
   "name": "python",
   "nbconvert_exporter": "python",
   "pygments_lexer": "ipython2",
   "version": "2.7.6"
  }
 },
 "nbformat": 4,
 "nbformat_minor": 5
}
