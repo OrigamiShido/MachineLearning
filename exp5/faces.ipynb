{
 "cells": [
  {
   "metadata": {},
   "cell_type": "markdown",
   "source": "# 6. 使用 Scikit-learn 库中的 Olivetti faces 数据集，选取该数据集中的一张图像，使用SVD 进行压缩重构，观察和比较不同奇异值数量的压缩效果。",
   "id": "4cfaeb6c6a4e06e6"
  },
  {
   "cell_type": "code",
   "execution_count": null,
   "id": "initial_id",
   "metadata": {
    "collapsed": true
   },
   "outputs": [],
   "source": [
    "import numpy as np\n",
    "import pandas as pd\n",
    "import matplotlib.pyplot as plt\n",
    "\n",
    "def printmat(inmat,thresh=0.8):\n",
    "    for i in range(32):\n",
    "        for k in range(32):\n",
    "            if float(inmat[i,k]) > thresh:\n",
    "                print(1,end='')\n",
    "            else:\n",
    "                print(0,end='')\n",
    "        print('')\n",
    "        \n",
    "def imgCompress(numSV=3,thresh=0.8):\n",
    "    my1 = np.array(pd.read_csv('data/10_1.txt',header=None,sep='\\t'))\n",
    "    print(\"****original matrix******\")\n",
    "    printmat(my1,thresh)\n",
    "    U,Sigma ,VT = np.linalg.svd(my1)\n",
    "    SigRecon = np.mat(np.zeros((numSV,numSV)))\n",
    "    for k in range(numSV):\n",
    "        SigRecon[k,k] = Sigma[k]\n",
    "    reconMat=U[:,:numSV]*SigRecon*VT[:numSV,:]\n",
    "    print(\"****reconsstructed matrix usint %d singulat calues******\" % numSV)\n",
    "    printmat(reconMat,thresh)\n",
    "    \n"
   ]
  }
 ],
 "metadata": {
  "kernelspec": {
   "display_name": "Python 3",
   "language": "python",
   "name": "python3"
  },
  "language_info": {
   "codemirror_mode": {
    "name": "ipython",
    "version": 2
   },
   "file_extension": ".py",
   "mimetype": "text/x-python",
   "name": "python",
   "nbconvert_exporter": "python",
   "pygments_lexer": "ipython2",
   "version": "2.7.6"
  }
 },
 "nbformat": 4,
 "nbformat_minor": 5
}
