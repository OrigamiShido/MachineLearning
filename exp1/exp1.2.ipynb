{
 "cells": [
  {
   "metadata": {},
   "cell_type": "markdown",
   "source": "# 使用KNN完成简单手写数字识别系统",
   "id": "730a6e8b05980e19"
  },
  {
   "cell_type": "code",
   "id": "initial_id",
   "metadata": {
    "collapsed": true,
    "ExecuteTime": {
     "end_time": "2024-10-09T09:45:38.082515Z",
     "start_time": "2024-10-09T09:45:35.936923Z"
    }
   },
   "source": [
    "import numpy as np\n",
    "import pandas as pd\n",
    "import operator\n",
    "from os import listdir\n",
    "from sklearn.neighbors import KNeighborsClassifier\n",
    "from sklearn.metrics import classification_report,confusion_matrix\n",
    "\n",
    "# 将32*32的二进制图像转换为1*1024向量\n",
    "\n",
    "def img2vector(filename):\n",
    "    returnVect = np.zeros((1, 1024))\n",
    "    fr = open(filename)\n",
    "    for i in range(32):\n",
    "        lineStr=fr.readline()\n",
    "        for j in range(32):\n",
    "            returnVect[0,32*i+j]=int(lineStr[j])\n",
    "    return returnVect\n",
    "\n",
    "hwLabels=[]\n",
    "testLabels=[]\n",
    "trainingFileList=listdir('C:/Users/Admin/Desktop/WHU study/programming/python/MachineLearning/exp1/digits/trainingDigits')\n",
    "m=len(trainingFileList)\n",
    "trainingMat=np.zeros((m,1024))\n",
    "for i in range(m):\n",
    "    fileNameStr=trainingFileList[i]\n",
    "    fileStr=fileNameStr.split('.')[0]\n",
    "    classNumStr=int(fileStr.split('_')[0])\n",
    "    hwLabels.append(classNumStr)\n",
    "    trainingMat[i,:]=img2vector('C:/Users/Admin/Desktop/WHU study/programming/python/MachineLearning/exp1/digits/trainingDigits/%s' % fileNameStr)\n",
    "testFileList=listdir('C:/Users/Admin/Desktop/WHU study/programming/python/MachineLearning/exp1/digits/testDigits')\n",
    "errorCount=0.0\n",
    "mTest=len(testFileList)\n",
    "vectorUnderTest=np.zeros((mTest,1024))\n",
    "for i in range(mTest):\n",
    "    fileNameStr=testFileList[i]\n",
    "    fileStr=fileNameStr.split('.')[0]\n",
    "    classNumStr=int(fileStr.split('_')[0])\n",
    "    testLabels.append(classNumStr)\n",
    "    vectorUnderTest[i,:]=img2vector('C:/Users/Admin/Desktop/WHU study/programming/python/MachineLearning/exp1/digits/testDigits/%s' % fileNameStr)\n",
    "    \n",
    "knn=KNeighborsClassifier(n_neighbors=3)\n",
    "knn.fit(trainingMat,hwLabels)\n",
    "    \n",
    "y_pred = knn.predict(vectorUnderTest)\n",
    "\n",
    "# 评估\n",
    "print(confusion_matrix(testLabels, y_pred))\n",
    "print(classification_report(testLabels, y_pred))"
   ],
   "outputs": [
    {
     "name": "stdout",
     "output_type": "stream",
     "text": [
      "[[ 87   0   0   0   0   0   0   0   0   0]\n",
      " [  0  96   0   0   0   0   0   1   0   0]\n",
      " [  0   0  92   0   0   0   0   0   0   0]\n",
      " [  0   0   0  84   0   0   0   0   0   1]\n",
      " [  0   0   0   0 114   0   0   0   0   0]\n",
      " [  0   0   0   1   0 106   1   0   0   0]\n",
      " [  0   0   0   0   0   0  87   0   0   0]\n",
      " [  0   0   0   0   0   0   0  96   0   0]\n",
      " [  0   3   0   1   0   0   1   0  86   0]\n",
      " [  0   1   0   0   0   1   0   1   0  86]]\n",
      "              precision    recall  f1-score   support\n",
      "\n",
      "           0       1.00      1.00      1.00        87\n",
      "           1       0.96      0.99      0.97        97\n",
      "           2       1.00      1.00      1.00        92\n",
      "           3       0.98      0.99      0.98        85\n",
      "           4       1.00      1.00      1.00       114\n",
      "           5       0.99      0.98      0.99       108\n",
      "           6       0.98      1.00      0.99        87\n",
      "           7       0.98      1.00      0.99        96\n",
      "           8       1.00      0.95      0.97        91\n",
      "           9       0.99      0.97      0.98        89\n",
      "\n",
      "    accuracy                           0.99       946\n",
      "   macro avg       0.99      0.99      0.99       946\n",
      "weighted avg       0.99      0.99      0.99       946\n",
      "\n"
     ]
    }
   ],
   "execution_count": 3
  }
 ],
 "metadata": {
  "kernelspec": {
   "display_name": "Python 3",
   "language": "python",
   "name": "python3"
  },
  "language_info": {
   "codemirror_mode": {
    "name": "ipython",
    "version": 2
   },
   "file_extension": ".py",
   "mimetype": "text/x-python",
   "name": "python",
   "nbconvert_exporter": "python",
   "pygments_lexer": "ipython2",
   "version": "2.7.6"
  }
 },
 "nbformat": 4,
 "nbformat_minor": 5
}
