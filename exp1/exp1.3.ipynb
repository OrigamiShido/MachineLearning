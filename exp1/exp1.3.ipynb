{
 "cells": [
  {
   "metadata": {},
   "cell_type": "markdown",
   "source": "# 使用机器学习库scikit-learn 中的Iris 数据库，选取其中的第2-3 个特征，用KNN 进行Iris 花的分类。对数据标准化后，采用交叉验证方式，随机选择30%的数据作为测试集，进行测试，计算测试集上的平均准确率。",
   "id": "25efdc7ca98bbb90"
  },
  {
   "cell_type": "code",
   "id": "initial_id",
   "metadata": {
    "collapsed": true,
    "ExecuteTime": {
     "end_time": "2024-10-07T03:13:19.571320Z",
     "start_time": "2024-10-07T03:13:18.055560Z"
    }
   },
   "source": [
    "import numpy as np\n",
    "import pandas as pd\n",
    "import matplotlib.pyplot as plt\n",
    "from sklearn import datasets\n",
    "from sklearn.model_selection import train_test_split\n",
    "from sklearn.preprocessing import StandardScaler\n",
    "from sklearn.neighbors import KNeighborsClassifier\n",
    "from sklearn.metrics import accuracy_score\n",
    "from sklearn.metrics import classification_report,confusion_matrix\n",
    "\n",
    "# 加载数据\n",
    "iris = datasets.load_iris()\n",
    "X = iris.data[:, 1:3]\n",
    "y = iris.target\n",
    "\n",
    "# 数据标准化\n",
    "scaler = StandardScaler()\n",
    "\n",
    "X = scaler.fit_transform(X)\n",
    "\n",
    "# 划分数据集\n",
    "X_train, X_test, y_train, y_test = train_test_split(X, y, test_size=0.3)\n",
    "\n",
    "# 训练模型\n",
    "knn = KNeighborsClassifier(n_neighbors=5)\n",
    "knn.fit(X_train, y_train)\n",
    "\n",
    "# 预测\n",
    "y_pred = knn.predict(X_test)\n",
    "\n",
    "# 准确率\n",
    "accuracy = accuracy_score(y_test, y_pred)\n",
    "print('准确率：', accuracy)\n",
    "\n",
    "# 混淆矩阵\n",
    "print('混淆矩阵：')\n",
    "print(confusion_matrix(y_test, y_pred))\n",
    "\n",
    "# 分类报告\n",
    "print('分类报告：')\n",
    "print(classification_report(y_test, y_pred))"
   ],
   "outputs": [
    {
     "name": "stdout",
     "output_type": "stream",
     "text": [
      "准确率： 0.9333333333333333\n",
      "混淆矩阵：\n",
      "[[13  1  0]\n",
      " [ 0 16  0]\n",
      " [ 0  2 13]]\n",
      "分类报告：\n",
      "              precision    recall  f1-score   support\n",
      "\n",
      "           0       1.00      0.93      0.96        14\n",
      "           1       0.84      1.00      0.91        16\n",
      "           2       1.00      0.87      0.93        15\n",
      "\n",
      "    accuracy                           0.93        45\n",
      "   macro avg       0.95      0.93      0.94        45\n",
      "weighted avg       0.94      0.93      0.93        45\n",
      "\n"
     ]
    }
   ],
   "execution_count": 1
  }
 ],
 "metadata": {
  "kernelspec": {
   "display_name": "Python 3",
   "language": "python",
   "name": "python3"
  },
  "language_info": {
   "codemirror_mode": {
    "name": "ipython",
    "version": 2
   },
   "file_extension": ".py",
   "mimetype": "text/x-python",
   "name": "python",
   "nbconvert_exporter": "python",
   "pygments_lexer": "ipython2",
   "version": "2.7.6"
  }
 },
 "nbformat": 4,
 "nbformat_minor": 5
}
